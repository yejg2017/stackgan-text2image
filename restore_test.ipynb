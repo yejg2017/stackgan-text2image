{
 "cells": [
  {
   "cell_type": "code",
   "execution_count": 2,
   "metadata": {},
   "outputs": [],
   "source": [
    "%matplotlib inline\n",
    "from matplotlib.pyplot import  imshow\n",
    "import tensorflow as tf\n",
    "import tensorlayer as tl\n",
    "from tensorlayer.layers import *\n",
    "from tensorlayer.prepro import *\n",
    "from tensorlayer.cost import *\n",
    "import numpy as np\n",
    "import scipy\n",
    "import nltk\n",
    "import warnings\n",
    "warnings.filterwarnings(\"ignore\")\n",
    "\n",
    "from model import *\n",
    "import model\n",
    "\n",
    "from utils import *"
   ]
  },
  {
   "cell_type": "markdown",
   "metadata": {},
   "source": [
    "### load .npz file"
   ]
  },
  {
   "cell_type": "code",
   "execution_count": 3,
   "metadata": {},
   "outputs": [
    {
     "name": "stdout",
     "output_type": "stream",
     "text": [
      "['net_cnn.npz', 'net_rnn.npz', 'net_g.npz', 'net_d.npz', 'net_cnn.npz100.npz', 'net_rnn.npz100.npz', 'net_g.npz100.npz', 'net_d.npz100.npz', 'net_encoder.npz']\n"
     ]
    }
   ],
   "source": [
    "save_dir='./checkpoint/'\n",
    "print(os.listdir(save_dir))\n",
    "ni = int(np.ceil(np.sqrt(batch_size)))"
   ]
  },
  {
   "cell_type": "code",
   "execution_count": 4,
   "metadata": {},
   "outputs": [
    {
     "name": "stdout",
     "output_type": "stream",
     "text": [
      "Loading data from pickle ...\n"
     ]
    }
   ],
   "source": [
    "print(\"Loading data from pickle ...\")\n",
    "import pickle\n",
    "with open(\"./Data/_vocab.pickle\", 'rb') as f:\n",
    "    vocab = pickle.load(f)\n",
    "with open(\"./Data/_image_train.pickle\", 'rb') as f:\n",
    "    _, images_train = pickle.load(f)\n",
    "with open(\"./Data/_image_test.pickle\", 'rb') as f:\n",
    "    _, images_test = pickle.load(f)\n",
    "with open(\"./Data/_n.pickle\", 'rb') as f:\n",
    "    n_captions_train, n_captions_test, n_captions_per_image, n_images_train, n_images_test = pickle.load(f)\n",
    "with open(\"./Data/_caption.pickle\", 'rb') as f:\n",
    "    captions_ids_train, captions_ids_test = pickle.load(f)\n",
    "# images_train_256 = np.array(images_train_256)\n",
    "# images_test_256 = np.array(images_test_256)\n",
    "images_train = np.array(images_train)\n",
    "images_test = np.array(images_test)\n"
   ]
  },
  {
   "cell_type": "markdown",
   "metadata": {
    "collapsed": true
   },
   "source": [
    "### placeholder"
   ]
  },
  {
   "cell_type": "code",
   "execution_count": 5,
   "metadata": {
    "collapsed": true
   },
   "outputs": [],
   "source": [
    "t_real_caption = tf.placeholder(dtype=tf.int64, shape=[batch_size, None], name='real_caption_input')\n",
    "t_z = tf.placeholder(tf.float32, [batch_size, z_dim], name='z_noise')"
   ]
  },
  {
   "cell_type": "markdown",
   "metadata": {},
   "source": [
    "### load pre-trained model"
   ]
  },
  {
   "cell_type": "code",
   "execution_count": 6,
   "metadata": {},
   "outputs": [
    {
     "name": "stdout",
     "output_type": "stream",
     "text": [
      "  [TL] EmbeddingInputlayer rnnftxt/rnn/wordembed: (8000, 256)\n",
      "  [TL] DynamicRNNLayer rnnftxt/rnn/dynamic: n_hidden:128, in_dim:3 in_shape:(64, ?, 256) cell_fn:BasicLSTMCell dropout:1.0 n_layer:1\n",
      "       batch_size (concurrent processes): 64\n",
      "  [TL] InputLayer  generator/g_inputz: (64, 512)\n",
      "  [TL] InputLayer  generator/g_input_txt: (64, 128)\n",
      "  [TL] DenseLayer  generator/g_reduce_text/dense: 128 <lambda>\n",
      "  [TL] ConcatLayer generator/g_concat_z_txt: 640\n",
      "  [TL] DenseLayer  generator/g_h0/dense: 16384 identity\n",
      "  [TL] BatchNormLayer generator/g_h0/batch_norm: decay:0.900000 epsilon:0.000010 act:identity is_train:True\n",
      "  [TL] ReshapeLayer generator/g_h0/reshape: (64, 4, 4, 1024)\n",
      "  [TL] Conv2dLayer generator/g_h1_res/conv2d: shape:[1, 1, 1024, 256] strides:[1, 1, 1, 1] pad:VALID act:identity\n",
      "  [TL] BatchNormLayer generator/g_h1_res/batch_norm: decay:0.900000 epsilon:0.000010 act:relu is_train:True\n",
      "  [TL] Conv2dLayer generator/g_h1_res/conv2d2: shape:[3, 3, 256, 256] strides:[1, 1, 1, 1] pad:SAME act:identity\n",
      "  [TL] BatchNormLayer generator/g_h1_res/batch_norm2: decay:0.900000 epsilon:0.000010 act:relu is_train:True\n",
      "  [TL] Conv2dLayer generator/g_h1_res/conv2d3: shape:[3, 3, 256, 1024] strides:[1, 1, 1, 1] pad:SAME act:identity\n",
      "  [TL] BatchNormLayer generator/g_h1_res/batch_norm3: decay:0.900000 epsilon:0.000010 act:identity is_train:True\n",
      "  [TL] ElementwiseLayer generator/g_h1_res/add: size:(64, 4, 4, 1024) fn:add\n",
      "  [TL] UpSampling2dLayer g_h2/upsample2d: is_scale:False size:[8, 8] method:1 align_corners:False\n",
      "  [TL] Conv2dLayer generator/g_h2/conv2d: shape:[3, 3, 1024, 512] strides:[1, 1, 1, 1] pad:SAME act:identity\n",
      "  [TL] BatchNormLayer generator/g_h2/batch_norm: decay:0.900000 epsilon:0.000010 act:identity is_train:True\n",
      "  [TL] Conv2dLayer generator/g_h3_res/conv2d: shape:[1, 1, 512, 128] strides:[1, 1, 1, 1] pad:VALID act:identity\n",
      "  [TL] BatchNormLayer generator/g_h3_res/batch_norm: decay:0.900000 epsilon:0.000010 act:relu is_train:True\n",
      "  [TL] Conv2dLayer generator/g_h3_res/conv2d2: shape:[3, 3, 128, 128] strides:[1, 1, 1, 1] pad:SAME act:identity\n",
      "  [TL] BatchNormLayer generator/g_h3_res/batch_norm2: decay:0.900000 epsilon:0.000010 act:relu is_train:True\n",
      "  [TL] Conv2dLayer generator/g_h3_res/conv2d3: shape:[3, 3, 128, 512] strides:[1, 1, 1, 1] pad:SAME act:identity\n",
      "  [TL] BatchNormLayer generator/g_h3_res/batch_norm3: decay:0.900000 epsilon:0.000010 act:identity is_train:True\n",
      "  [TL] ElementwiseLayer generator/g_h3/add: size:(64, 8, 8, 512) fn:add\n",
      "  [TL] UpSampling2dLayer g_h4/upsample2d: is_scale:False size:[16, 16] method:1 align_corners:False\n",
      "  [TL] Conv2dLayer generator/g_h4/conv2d: shape:[3, 3, 512, 256] strides:[1, 1, 1, 1] pad:SAME act:identity\n",
      "  [TL] BatchNormLayer generator/g_h4/batch_norm: decay:0.900000 epsilon:0.000010 act:relu is_train:True\n",
      "  [TL] UpSampling2dLayer g_h5/upsample2d: is_scale:False size:[32, 32] method:1 align_corners:False\n",
      "  [TL] Conv2dLayer generator/g_h5/conv2d: shape:[3, 3, 256, 128] strides:[1, 1, 1, 1] pad:SAME act:identity\n",
      "  [TL] BatchNormLayer generator/g_h5/batch_norm: decay:0.900000 epsilon:0.000010 act:relu is_train:True\n",
      "  [TL] UpSampling2dLayer g_ho/upsample2d: is_scale:False size:[64, 64] method:1 align_corners:False\n",
      "  [TL] Conv2dLayer generator/g_ho/conv2d: shape:[3, 3, 128, 3] strides:[1, 1, 1, 1] pad:SAME act:identity\n"
     ]
    }
   ],
   "source": [
    "net_rnn = rnn_embed(t_real_caption, is_train=True, reuse=False)\n",
    "generator_txt2img = model.generator_txt2img_resnet\n",
    " ## testing inference for txt2img\n",
    "net_g, _ = generator_txt2img(t_z,\n",
    "                    net_rnn.outputs,\n",
    "                    is_train=True, reuse=False, batch_size=batch_size)"
   ]
  },
  {
   "cell_type": "code",
   "execution_count": 8,
   "metadata": {},
   "outputs": [
    {
     "name": "stdout",
     "output_type": "stream",
     "text": [
      "[*] Loading ./checkpoint/net_rnn.npz100.npz model SUCCESS!\n",
      "[*] Loading ./checkpoint/net_g.npz100.npz model SUCCESS!\n"
     ]
    },
    {
     "data": {
      "text/plain": [
       "<tensorlayer.layers.Conv2dLayer at 0x7fe7ae16fef0>"
      ]
     },
     "execution_count": 8,
     "metadata": {},
     "output_type": "execute_result"
    }
   ],
   "source": [
    "# load the latest checkpoints\n",
    "sess=tf.Session()\n",
    "net_rnn_name = os.path.join(save_dir, 'net_rnn.npz100.npz')\n",
    "#net_cnn_name = os.path.join(save_dir, 'net_cnn.npz100.npz')\n",
    "net_g_name = os.path.join(save_dir, 'net_g.npz100.npz')\n",
    "#net_d_name = os.path.join(save_dir, 'net_d.npz100.npz')\n",
    "\n",
    "load_and_assign_npz(sess=sess, name=net_rnn_name, model=net_rnn)\n",
    "#load_and_assign_npz(sess=sess, name=net_cnn_name, model=net_cnn)\n",
    "load_and_assign_npz(sess=sess, name=net_g_name, model=net_g)\n",
    "#load_and_assign_npz(sess=sess, name=net_d_name, model=net_d)"
   ]
  },
  {
   "cell_type": "markdown",
   "metadata": {},
   "source": [
    "### sample sentence"
   ]
  },
  {
   "cell_type": "code",
   "execution_count": 9,
   "metadata": {},
   "outputs": [
    {
     "name": "stdout",
     "output_type": "stream",
     "text": [
      "seed: the flower shown has yellow anther red pistil and bright red petals.\n",
      "seed: the flower shown has yellow anther red pistil and bright red petals.\n",
      "seed: the flower shown has yellow anther red pistil and bright red petals.\n",
      "seed: the flower shown has yellow anther red pistil and bright red petals.\n",
      "seed: the flower shown has yellow anther red pistil and bright red petals.\n",
      "seed: the flower shown has yellow anther red pistil and bright red petals.\n",
      "seed: the flower shown has yellow anther red pistil and bright red petals.\n",
      "seed: the flower shown has yellow anther red pistil and bright red petals.\n",
      "seed: this flower has petals that are yellow, white and purple and has dark lines\n",
      "seed: this flower has petals that are yellow, white and purple and has dark lines\n",
      "seed: this flower has petals that are yellow, white and purple and has dark lines\n",
      "seed: this flower has petals that are yellow, white and purple and has dark lines\n",
      "seed: this flower has petals that are yellow, white and purple and has dark lines\n",
      "seed: this flower has petals that are yellow, white and purple and has dark lines\n",
      "seed: this flower has petals that are yellow, white and purple and has dark lines\n",
      "seed: this flower has petals that are yellow, white and purple and has dark lines\n",
      "seed: the petals on this flower are white with a yellow center\n",
      "seed: the petals on this flower are white with a yellow center\n",
      "seed: the petals on this flower are white with a yellow center\n",
      "seed: the petals on this flower are white with a yellow center\n",
      "seed: the petals on this flower are white with a yellow center\n",
      "seed: the petals on this flower are white with a yellow center\n",
      "seed: the petals on this flower are white with a yellow center\n",
      "seed: the petals on this flower are white with a yellow center\n",
      "seed: this flower has a lot of small round pink petals.\n",
      "seed: this flower has a lot of small round pink petals.\n",
      "seed: this flower has a lot of small round pink petals.\n",
      "seed: this flower has a lot of small round pink petals.\n",
      "seed: this flower has a lot of small round pink petals.\n",
      "seed: this flower has a lot of small round pink petals.\n",
      "seed: this flower has a lot of small round pink petals.\n",
      "seed: this flower has a lot of small round pink petals.\n",
      "seed: this flower is orange in color, and has petals that are ruffled and rounded.\n",
      "seed: this flower is orange in color, and has petals that are ruffled and rounded.\n",
      "seed: this flower is orange in color, and has petals that are ruffled and rounded.\n",
      "seed: this flower is orange in color, and has petals that are ruffled and rounded.\n",
      "seed: this flower is orange in color, and has petals that are ruffled and rounded.\n",
      "seed: this flower is orange in color, and has petals that are ruffled and rounded.\n",
      "seed: this flower is orange in color, and has petals that are ruffled and rounded.\n",
      "seed: this flower is orange in color, and has petals that are ruffled and rounded.\n",
      "seed: the flower has yellow petals and the center of it is brown.\n",
      "seed: the flower has yellow petals and the center of it is brown.\n",
      "seed: the flower has yellow petals and the center of it is brown.\n",
      "seed: the flower has yellow petals and the center of it is brown.\n",
      "seed: the flower has yellow petals and the center of it is brown.\n",
      "seed: the flower has yellow petals and the center of it is brown.\n",
      "seed: the flower has yellow petals and the center of it is brown.\n",
      "seed: the flower has yellow petals and the center of it is brown.\n",
      "seed: this flower has petals that are blue and white.\n",
      "seed: this flower has petals that are blue and white.\n",
      "seed: this flower has petals that are blue and white.\n",
      "seed: this flower has petals that are blue and white.\n",
      "seed: this flower has petals that are blue and white.\n",
      "seed: this flower has petals that are blue and white.\n",
      "seed: this flower has petals that are blue and white.\n",
      "seed: this flower has petals that are blue and white.\n",
      "seed: these white flowers have petals that start off white in color and end in a white towards the tips.\n",
      "seed: these white flowers have petals that start off white in color and end in a white towards the tips.\n",
      "seed: these white flowers have petals that start off white in color and end in a white towards the tips.\n",
      "seed: these white flowers have petals that start off white in color and end in a white towards the tips.\n",
      "seed: these white flowers have petals that start off white in color and end in a white towards the tips.\n",
      "seed: these white flowers have petals that start off white in color and end in a white towards the tips.\n",
      "seed: these white flowers have petals that start off white in color and end in a white towards the tips.\n",
      "seed: these white flowers have petals that start off white in color and end in a white towards the tips.\n"
     ]
    }
   ],
   "source": [
    "## seed for generation, z and sentence ids\n",
    "import nltk\n",
    "sample_size = batch_size\n",
    "sample_seed = np.random.normal(loc=0.0, scale=1.0, size=(sample_size, z_dim)).astype(np.float32)\n",
    "# sample_seed = np.random.uniform(low=-1, high=1, size=(sample_size, z_dim)).astype(np.float32)]\n",
    "n = int(sample_size / ni)\n",
    "sample_sentence = [\"the flower shown has yellow anther red pistil and bright red petals.\"] * n + \\\n",
    "                      [\"this flower has petals that are yellow, white and purple and has dark lines\"] * n + \\\n",
    "                      [\"the petals on this flower are white with a yellow center\"] * n + \\\n",
    "                      [\"this flower has a lot of small round pink petals.\"] * n + \\\n",
    "                      [\"this flower is orange in color, and has petals that are ruffled and rounded.\"] * n + \\\n",
    "                      [\"the flower has yellow petals and the center of it is brown.\"] * n + \\\n",
    "                      [\"this flower has petals that are blue and white.\"] * n +\\\n",
    "                      [\"these white flowers have petals that start off white in color and end in a white towards the tips.\"] * n\n",
    "\n",
    "# sample_sentence = captions_ids_test[0:sample_size]\n",
    "for i, sentence in enumerate(sample_sentence):\n",
    "    print(\"seed: %s\" % sentence)\n",
    "    sentence = preprocess_caption(sentence)\n",
    "    sample_sentence[i] = [vocab.word_to_id(word) for word in nltk.tokenize.word_tokenize(sentence)] + [vocab.end_id]    # add END_ID\n",
    "    # sample_sentence[i] = [vocab.word_to_id(word) for word in sentence]\n",
    "    # print(sample_sentence[i])\n",
    "sample_sentence = tl.prepro.pad_sequences(sample_sentence, padding='post')"
   ]
  },
  {
   "cell_type": "code",
   "execution_count": 10,
   "metadata": {},
   "outputs": [],
   "source": [
    "img_gen, rnn_out = sess.run([net_g.outputs, net_rnn.outputs], feed_dict={\n",
    "                                        t_real_caption : sample_sentence,\n",
    "                                        t_z : sample_seed})"
   ]
  },
  {
   "cell_type": "code",
   "execution_count": 22,
   "metadata": {},
   "outputs": [
    {
     "name": "stderr",
     "output_type": "stream",
     "text": [
      "Clipping input data to the valid range for imshow with RGB data ([0..1] for floats or [0..255] for integers).\n"
     ]
    },
    {
     "data": {
      "text/plain": [
       "<matplotlib.image.AxesImage at 0x7fe78065ea58>"
      ]
     },
     "execution_count": 22,
     "metadata": {},
     "output_type": "execute_result"
    },
    {
     "data": {
      "image/png": "[encoded data removed]",
      "text/plain": [
       "<Figure size 432x288 with 1 Axes>"
      ]
     },
     "metadata": {},
     "output_type": "display_data"
    }
   ],
   "source": [
    "imshow(img_gen[1])"
   ]
  },
  {
   "cell_type": "code",
   "execution_count": null,
   "metadata": {
    "collapsed": true
   },
   "outputs": [],
   "source": []
  }
 ],
 "metadata": {
  "kernelspec": {
   "display_name": "Python 3",
   "language": "python",
   "name": "python3"
  },
  "language_info": {
   "codemirror_mode": {
    "name": "ipython",
    "version": 3
   },
   "file_extension": ".py",
   "mimetype": "text/x-python",
   "name": "python",
   "nbconvert_exporter": "python",
   "pygments_lexer": "ipython3",
   "version": "3.6.2"
  }
 },
 "nbformat": 4,
 "nbformat_minor": 2
}
